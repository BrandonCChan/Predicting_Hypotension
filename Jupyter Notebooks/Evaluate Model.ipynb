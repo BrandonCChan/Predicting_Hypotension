{
 "cells": [
  {
   "cell_type": "markdown",
   "metadata": {},
   "source": [
    "# Loading a pretrained model and evaluating it"
   ]
  },
  {
   "cell_type": "code",
   "execution_count": 1,
   "metadata": {},
   "outputs": [
    {
     "name": "stderr",
     "output_type": "stream",
     "text": [
      "Using TensorFlow backend.\n"
     ]
    }
   ],
   "source": [
    "# Import libraries and such\n",
    "import numpy as np\n",
    "#import tensorflow as tf\n",
    "from keras.models import load_model\n",
    "from sklearn.metrics import roc_auc_score, confusion_matrix, accuracy_score, auc\n",
    "from sklearn import metrics\n",
    "\n",
    "# Model Metric Function (When loading in pretrained models)\n",
    "def auc_roc(y_true, y_pred):\n",
    "    return tf.py_func(metrics.roc_auc_score, (y_true, y_pred), tf.double)\n",
    "\n",
    "def print_cm(cm, labels, hide_zeroes=False, hide_diagonal=False, hide_threshold=None):\n",
    "    \"\"\" Prints confusion matrixes in a 'pretty' way in the console output\n",
    "    \"\"\"\n",
    "    columnwidth = max([len(x) for x in labels] + [5])  # 5 is value length\n",
    "    empty_cell = \" \" * columnwidth\n",
    "    # Print header\n",
    "    print(\"    \" + empty_cell, end=\" \")\n",
    "    for label in labels:\n",
    "        print(\"%{0}s\".format(columnwidth) % label, end=\" \")\n",
    "    print()\n",
    "    # Print rows\n",
    "    for i, label1 in enumerate(labels):\n",
    "        print(\"    %{0}s\".format(columnwidth) % label1, end=\" \")\n",
    "        for j in range(len(labels)):\n",
    "            cell = \"%{0}.1f\".format(columnwidth) % cm[i, j]\n",
    "            if hide_zeroes:\n",
    "                cell = cell if float(cm[i, j]) != 0 else empty_cell\n",
    "            if hide_diagonal:\n",
    "                cell = cell if i != j else empty_cell\n",
    "            if hide_threshold:\n",
    "                cell = cell if cm[i, j] > hide_threshold else empty_cell\n",
    "            print(cell, end=\" \")\n",
    "        print()\n",
    "        \n",
    "def evaluate_model(X, y, model):\n",
    "    \"\"\" Evaluates a keras model given data and labels. Prints metrics \n",
    "        and confusion matrix to console and returns metrics as floats\n",
    "    \n",
    "        inputs: \n",
    "        X -- an [n,m] numpy array of observations \n",
    "        y -- an [n,1] numpy array of class labels\n",
    "        model -- a loaded keras model object\n",
    "        \n",
    "        outputs:\n",
    "        auroc -- Area under the receiver operating characteristic\n",
    "        accuracy -- Proportion of correct/incorrect predictions\n",
    "        sensitvity -- The true positive rate or recall  \n",
    "        specificity -- The true negative rate \n",
    "    \"\"\"\n",
    "    y_pred = model.predict(X)\n",
    "    y_pred_binary = (np.array(y_pred) > 0.5) * 1\n",
    "    \n",
    "    TN, FP, FN, TP = confusion_matrix(y, y_pred_binary).ravel()\n",
    "    fpr, tpr, thresholds = metrics.roc_curve(y, y_pred, pos_label=1)\n",
    "    \n",
    "    auroc = metrics.auc(fpr, tpr)\n",
    "    accuracy = accuracy_score(y_pred=y_pred_binary, y_true=y)\n",
    "    sensitivity = TP / (TP + FN)\n",
    "    specificity = TN / (TN + FP)\n",
    "    \n",
    "    print('acc:',accuracy)\n",
    "    print('auc:',auroc)\n",
    "    print('sensitivity:',sensitivity)\n",
    "    print('specificity:',specificity)\n",
    "    print('')\n",
    "    cm = confusion_matrix(y, y_pred_binary)\n",
    "    print_cm(cm,[\"Non-AHE\",\"AHE\"])\n",
    "    return auroc, accuracy, sensitivity, specificity"
   ]
  },
  {
   "cell_type": "code",
   "execution_count": 3,
   "metadata": {},
   "outputs": [],
   "source": [
    "# Load Data\n",
    "X = np.load(\"/mnt/data2/brandon/reprocessed_data_apr1/physionet_data/apr16/normalized/test_X_obs60_lag10.npy\")\n",
    "y = np.load(\"/mnt/data2/brandon/reprocessed_data_apr1/physionet_data/apr16/normalized/test_y_obs60_lag10.npy\")"
   ]
  },
  {
   "cell_type": "code",
   "execution_count": 4,
   "metadata": {},
   "outputs": [],
   "source": [
    "# Load Model\n",
    "model_filepath = '/mnt/data2/brandon/ScientificReports/LSTM_DeepEnsamble/SR_LSTM_base_model_lag10_obs60_1.hdf5'\n",
    "model = load_model(model_filepath, custom_objects={'auc_roc':auc_roc})"
   ]
  },
  {
   "cell_type": "code",
   "execution_count": 5,
   "metadata": {},
   "outputs": [
    {
     "name": "stdout",
     "output_type": "stream",
     "text": [
      "acc: 0.8154651879235982\n",
      "auc: 0.8497569010866388\n",
      "sensitivity: 0.7368421052631579\n",
      "specificity: 0.8188242852553806\n",
      "\n",
      "            Non-AHE     AHE \n",
      "    Non-AHE  2549.0   564.0 \n",
      "        AHE    35.0    98.0 \n"
     ]
    }
   ],
   "source": [
    "# Evaluate Model \n",
    "auc, acc, sens, spec = evaluate_model(X, y, model)"
   ]
  }
 ],
 "metadata": {
  "kernelspec": {
   "display_name": "Python 3",
   "language": "python",
   "name": "python3"
  },
  "language_info": {
   "codemirror_mode": {
    "name": "ipython",
    "version": 3
   },
   "file_extension": ".py",
   "mimetype": "text/x-python",
   "name": "python",
   "nbconvert_exporter": "python",
   "pygments_lexer": "ipython3",
   "version": "3.6.6"
  }
 },
 "nbformat": 4,
 "nbformat_minor": 2
}
